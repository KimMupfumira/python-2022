{
 "cells": [
  {
   "cell_type": "markdown",
   "id": "864adb31",
   "metadata": {},
   "source": [
    "### Requirements/Libraries\n"
   ]
  },
  {
   "cell_type": "code",
   "execution_count": 1,
   "id": "ac6e5308",
   "metadata": {},
   "outputs": [],
   "source": [
    "from rdflib import Graph\n",
    "from SPARQLWrapper import SPARQLWrapper, JSON"
   ]
  },
  {
   "cell_type": "markdown",
   "id": "5a27e22c",
   "metadata": {},
   "source": [
    "### Query local Playground dataset"
   ]
  },
  {
   "cell_type": "code",
   "execution_count": 41,
   "id": "e36a6103",
   "metadata": {},
   "outputs": [
    {
     "name": "stdout",
     "output_type": "stream",
     "text": [
      "Loaded '73' triples.\n",
      "Query results (Females):\n",
      "http://example.org/tuto/resource#Eve is female with name 'Eve'\n",
      "http://example.org/tuto/resource#LunaCat is female with name 'Luna'\n",
      "Eve's Grandfather is 'http://example.org/tuto/resource#John'\n",
      "http://example.org/tuto/resource#RexDog is a dog that is 'brown' in color and who's sex is 'male'\n",
      "http://example.org/tuto/resource#LunaCat has owner 'http://example.org/tuto/resource#John'\n",
      "http://example.org/tuto/resource#TomCat has owner 'http://example.org/tuto/resource#John'\n",
      "http://example.org/tuto/resource#RexDog has owner 'http://example.org/tuto/resource#William'\n",
      "http://example.org/tuto/resource#SnuffMonkey has owner 'None'\n",
      "http://example.org/tuto/resource#John was born '1942-02-02' and gender is 'male'\n",
      "http://example.org/tuto/resource#William was born '1978-07-20' and gender is 'male'\n",
      "http://example.org/tuto/resource#Eve was born '2006-11-03' and gender is 'female'\n"
     ]
    }
   ],
   "source": [
    "g = Graph()\n",
    "g.parse(\"playground.ttl\", format=\"ttl\")\n",
    "\n",
    "print(\"Loaded '\" + str(len(g)) + \"' triples.\")\n",
    "\n",
    "print(\"Query results (Females):\")\n",
    "\n",
    "qres = g.query(\n",
    "\"\"\"SELECT ?thing ?name where {\n",
    "  ?thing tto:sex \"female\" .\n",
    "  ?thing dbp:name ?name .\n",
    "}\"\"\")\n",
    "\n",
    "for row in qres:\n",
    "    #Row is a list of matched RDF terms: URIs, literals or blank nodes\n",
    "    print(\"%s is female with name '%s'\" % (str(row.thing),str(row.name)))\n",
    "    \n",
    "    \n",
    "qres1 = g.query(\n",
    "\"\"\"SELECT ?grandparent WHERE {\n",
    "    ttr:Eve dbo:parent/dbo:parent ?grandparent .\n",
    "}\n",
    "\"\"\")\n",
    "\n",
    "for row in qres1:\n",
    "    print(\"Eve's Grandfather is '%s'\" % (str(row.grandparent)))\n",
    "    \n",
    "qres2 = g.query(\n",
    "\"\"\"SELECT ?dogs ?color ?sex WHERE {\n",
    "    ?dogs rdf:type tto:Dog ;\n",
    "        tto:color ?color ;\n",
    "        tto:sex ?sex .\n",
    "}\n",
    "\"\"\")\n",
    "\n",
    "for row in qres2:\n",
    "    print(\"%s is a dog that is '%s' in color and who's sex is '%s'\" % \n",
    "          (str(row.dogs),str(row.color),str(row.sex)))\n",
    "    \n",
    "    \n",
    "qres3 = g.query(\n",
    "\"\"\"SELECT ?pet ?owner WHERE {\n",
    "    ?pet a [rdfs:subClassOf tto:Animal] .\n",
    "    OPTIONAL {?owner tto:pet ?pet}\n",
    "}\n",
    "\"\"\")\n",
    "\n",
    "for row in qres3:\n",
    "    print(\"%s has owner '%s'\" % (str(row.pet),str(row.owner)))\n",
    "\n",
    "    \n",
    "qres4 = g.query(\n",
    "    \"\"\"SELECT ?peo ?gen ?bir_dat WHERE {\n",
    "     ?peo rdf:type dbo:Person ;\n",
    "        tto:sex ?gen ;\n",
    "        dbp:birthDate ?bir_dat .\n",
    "}\n",
    "ORDER BY ASC(?bir_dat) ?gen \n",
    "\"\"\"\n",
    ")\n",
    "\n",
    "for row in qres4:\n",
    "    print(\"%s was born '%s' and gender is '%s'\" % \n",
    "          (str(row.peo), str(row.bir_dat), str(row.gen)))"
   ]
  },
  {
   "cell_type": "markdown",
   "id": "237a67da",
   "metadata": {},
   "source": [
    "### Query local Nobel Prize dataset"
   ]
  },
  {
   "cell_type": "code",
   "execution_count": 46,
   "id": "c7fa4288",
   "metadata": {},
   "outputs": [
    {
     "name": "stdout",
     "output_type": "stream",
     "text": [
      "Loaded '85797' triples.\n",
      "Female laureates (printing 10):\n",
      "'Marie Curie, née Sklodowska'\n",
      "'Maria Goeppert Mayer'\n",
      "'Irène Joliot-Curie'\n",
      "'Dorothy Crowfoot Hodgkin'\n",
      "'Gerty Theresa Cori, née Radnitz'\n",
      "'Rosalyn Yalow'\n",
      "'Barbara McClintock'\n",
      "'Rita Levi-Montalcini'\n",
      "'Gertrude B. Elion'\n",
      "'Christiane Nüsslein-Volhard'\n"
     ]
    },
    {
     "ename": "Exception",
     "evalue": "Unknown namespace prefix : dbpedia-owl",
     "output_type": "error",
     "traceback": [
      "\u001b[0;31m---------------------------------------------------------------------------\u001b[0m",
      "\u001b[0;31mException\u001b[0m                                 Traceback (most recent call last)",
      "Input \u001b[0;32mIn [46]\u001b[0m, in \u001b[0;36m<module>\u001b[0;34m\u001b[0m\n\u001b[1;32m     27\u001b[0m         \u001b[38;5;28;01mbreak\u001b[39;00m\n\u001b[1;32m     30\u001b[0m nbq1 \u001b[38;5;241m=\u001b[39m \u001b[38;5;124m\"\"\"\u001b[39m\n\u001b[1;32m     31\u001b[0m \u001b[38;5;124mPREFIX nobel: <http://data.nobelprize.org/terms/>\u001b[39m\n\u001b[1;32m     32\u001b[0m \u001b[38;5;124mPREFIX foaf: <http://xmlns.com/foaf/0.1/>\u001b[39m\n\u001b[0;32m   (...)\u001b[0m\n\u001b[1;32m     39\u001b[0m \u001b[38;5;124m} \u001b[39m\n\u001b[1;32m     40\u001b[0m \u001b[38;5;124m\"\"\"\u001b[39m\n\u001b[0;32m---> 42\u001b[0m qres10 \u001b[38;5;241m=\u001b[39m \u001b[43mg\u001b[49m\u001b[38;5;241;43m.\u001b[39;49m\u001b[43mquery\u001b[49m\u001b[43m(\u001b[49m\u001b[43mnbq1\u001b[49m\u001b[43m)\u001b[49m\n\u001b[1;32m     44\u001b[0m \u001b[38;5;28mprint\u001b[39m(\u001b[38;5;124m\"\u001b[39m\u001b[38;5;124mlaureates (printing 10):\u001b[39m\u001b[38;5;124m\"\u001b[39m)\n\u001b[1;32m     45\u001b[0m i\u001b[38;5;241m=\u001b[39m\u001b[38;5;241m0\u001b[39m\n",
      "File \u001b[0;32m~/opt/anaconda3/envs/myenv/lib/python3.8/site-packages/rdflib/graph.py:1326\u001b[0m, in \u001b[0;36mGraph.query\u001b[0;34m(self, query_object, processor, result, initNs, initBindings, use_store_provided, **kwargs)\u001b[0m\n\u001b[1;32m   1323\u001b[0m \u001b[38;5;28;01mif\u001b[39;00m \u001b[38;5;129;01mnot\u001b[39;00m \u001b[38;5;28misinstance\u001b[39m(processor, query\u001b[38;5;241m.\u001b[39mProcessor):\n\u001b[1;32m   1324\u001b[0m     processor \u001b[38;5;241m=\u001b[39m plugin\u001b[38;5;241m.\u001b[39mget(processor, query\u001b[38;5;241m.\u001b[39mProcessor)(\u001b[38;5;28mself\u001b[39m)\n\u001b[0;32m-> 1326\u001b[0m \u001b[38;5;28;01mreturn\u001b[39;00m result(\u001b[43mprocessor\u001b[49m\u001b[38;5;241;43m.\u001b[39;49m\u001b[43mquery\u001b[49m\u001b[43m(\u001b[49m\u001b[43mquery_object\u001b[49m\u001b[43m,\u001b[49m\u001b[43m \u001b[49m\u001b[43minitBindings\u001b[49m\u001b[43m,\u001b[49m\u001b[43m \u001b[49m\u001b[43minitNs\u001b[49m\u001b[43m,\u001b[49m\u001b[43m \u001b[49m\u001b[38;5;241;43m*\u001b[39;49m\u001b[38;5;241;43m*\u001b[39;49m\u001b[43mkwargs\u001b[49m\u001b[43m)\u001b[49m)\n",
      "File \u001b[0;32m~/opt/anaconda3/envs/myenv/lib/python3.8/site-packages/rdflib/plugins/sparql/processor.py:72\u001b[0m, in \u001b[0;36mSPARQLProcessor.query\u001b[0;34m(self, strOrQuery, initBindings, initNs, base, DEBUG)\u001b[0m\n\u001b[1;32m     70\u001b[0m \u001b[38;5;28;01mif\u001b[39;00m \u001b[38;5;129;01mnot\u001b[39;00m \u001b[38;5;28misinstance\u001b[39m(strOrQuery, Query):\n\u001b[1;32m     71\u001b[0m     parsetree \u001b[38;5;241m=\u001b[39m parseQuery(strOrQuery)\n\u001b[0;32m---> 72\u001b[0m     query \u001b[38;5;241m=\u001b[39m \u001b[43mtranslateQuery\u001b[49m\u001b[43m(\u001b[49m\u001b[43mparsetree\u001b[49m\u001b[43m,\u001b[49m\u001b[43m \u001b[49m\u001b[43mbase\u001b[49m\u001b[43m,\u001b[49m\u001b[43m \u001b[49m\u001b[43minitNs\u001b[49m\u001b[43m)\u001b[49m\n\u001b[1;32m     73\u001b[0m \u001b[38;5;28;01melse\u001b[39;00m:\n\u001b[1;32m     74\u001b[0m     query \u001b[38;5;241m=\u001b[39m strOrQuery\n",
      "File \u001b[0;32m~/opt/anaconda3/envs/myenv/lib/python3.8/site-packages/rdflib/plugins/sparql/algebra.py:779\u001b[0m, in \u001b[0;36mtranslateQuery\u001b[0;34m(q, base, initNs)\u001b[0m\n\u001b[1;32m    776\u001b[0m prologue \u001b[38;5;241m=\u001b[39m translatePrologue(q[\u001b[38;5;241m0\u001b[39m], base, initNs)\n\u001b[1;32m    778\u001b[0m \u001b[38;5;66;03m# absolutize/resolve prefixes\u001b[39;00m\n\u001b[0;32m--> 779\u001b[0m q[\u001b[38;5;241m1\u001b[39m] \u001b[38;5;241m=\u001b[39m \u001b[43mtraverse\u001b[49m\u001b[43m(\u001b[49m\n\u001b[1;32m    780\u001b[0m \u001b[43m    \u001b[49m\u001b[43mq\u001b[49m\u001b[43m[\u001b[49m\u001b[38;5;241;43m1\u001b[39;49m\u001b[43m]\u001b[49m\u001b[43m,\u001b[49m\u001b[43m \u001b[49m\u001b[43mvisitPost\u001b[49m\u001b[38;5;241;43m=\u001b[39;49m\u001b[43mfunctools\u001b[49m\u001b[38;5;241;43m.\u001b[39;49m\u001b[43mpartial\u001b[49m\u001b[43m(\u001b[49m\u001b[43mtranslatePName\u001b[49m\u001b[43m,\u001b[49m\u001b[43m \u001b[49m\u001b[43mprologue\u001b[49m\u001b[38;5;241;43m=\u001b[39;49m\u001b[43mprologue\u001b[49m\u001b[43m)\u001b[49m\n\u001b[1;32m    781\u001b[0m \u001b[43m\u001b[49m\u001b[43m)\u001b[49m\n\u001b[1;32m    783\u001b[0m P, PV \u001b[38;5;241m=\u001b[39m translate(q[\u001b[38;5;241m1\u001b[39m])\n\u001b[1;32m    784\u001b[0m datasetClause \u001b[38;5;241m=\u001b[39m q[\u001b[38;5;241m1\u001b[39m]\u001b[38;5;241m.\u001b[39mdatasetClause\n",
      "File \u001b[0;32m~/opt/anaconda3/envs/myenv/lib/python3.8/site-packages/rdflib/plugins/sparql/algebra.py:390\u001b[0m, in \u001b[0;36mtraverse\u001b[0;34m(tree, visitPre, visitPost, complete)\u001b[0m\n\u001b[1;32m    383\u001b[0m \u001b[38;5;124;03m\"\"\"\u001b[39;00m\n\u001b[1;32m    384\u001b[0m \u001b[38;5;124;03mTraverse tree, visit each node with visit function\u001b[39;00m\n\u001b[1;32m    385\u001b[0m \u001b[38;5;124;03mvisit function may raise StopTraversal to stop traversal\u001b[39;00m\n\u001b[1;32m    386\u001b[0m \u001b[38;5;124;03mif complete!=None, it is returned on complete traversal,\u001b[39;00m\n\u001b[1;32m    387\u001b[0m \u001b[38;5;124;03motherwise the transformed tree is returned\u001b[39;00m\n\u001b[1;32m    388\u001b[0m \u001b[38;5;124;03m\"\"\"\u001b[39;00m\n\u001b[1;32m    389\u001b[0m \u001b[38;5;28;01mtry\u001b[39;00m:\n\u001b[0;32m--> 390\u001b[0m     r \u001b[38;5;241m=\u001b[39m \u001b[43m_traverse\u001b[49m\u001b[43m(\u001b[49m\u001b[43mtree\u001b[49m\u001b[43m,\u001b[49m\u001b[43m \u001b[49m\u001b[43mvisitPre\u001b[49m\u001b[43m,\u001b[49m\u001b[43m \u001b[49m\u001b[43mvisitPost\u001b[49m\u001b[43m)\u001b[49m\n\u001b[1;32m    391\u001b[0m     \u001b[38;5;28;01mif\u001b[39;00m complete \u001b[38;5;129;01mis\u001b[39;00m \u001b[38;5;129;01mnot\u001b[39;00m \u001b[38;5;28;01mNone\u001b[39;00m:\n\u001b[1;32m    392\u001b[0m         \u001b[38;5;28;01mreturn\u001b[39;00m complete\n",
      "File \u001b[0;32m~/opt/anaconda3/envs/myenv/lib/python3.8/site-packages/rdflib/plugins/sparql/algebra.py:353\u001b[0m, in \u001b[0;36m_traverse\u001b[0;34m(e, visitPre, visitPost)\u001b[0m\n\u001b[1;32m    351\u001b[0m \u001b[38;5;28;01melif\u001b[39;00m \u001b[38;5;28misinstance\u001b[39m(e, CompValue):\n\u001b[1;32m    352\u001b[0m     \u001b[38;5;28;01mfor\u001b[39;00m k, val \u001b[38;5;129;01min\u001b[39;00m e\u001b[38;5;241m.\u001b[39mitems():\n\u001b[0;32m--> 353\u001b[0m         e[k] \u001b[38;5;241m=\u001b[39m \u001b[43m_traverse\u001b[49m\u001b[43m(\u001b[49m\u001b[43mval\u001b[49m\u001b[43m,\u001b[49m\u001b[43m \u001b[49m\u001b[43mvisitPre\u001b[49m\u001b[43m,\u001b[49m\u001b[43m \u001b[49m\u001b[43mvisitPost\u001b[49m\u001b[43m)\u001b[49m\n\u001b[1;32m    355\u001b[0m _e \u001b[38;5;241m=\u001b[39m visitPost(e)\n\u001b[1;32m    356\u001b[0m \u001b[38;5;28;01mif\u001b[39;00m _e \u001b[38;5;129;01mis\u001b[39;00m \u001b[38;5;129;01mnot\u001b[39;00m \u001b[38;5;28;01mNone\u001b[39;00m:\n",
      "File \u001b[0;32m~/opt/anaconda3/envs/myenv/lib/python3.8/site-packages/rdflib/plugins/sparql/algebra.py:353\u001b[0m, in \u001b[0;36m_traverse\u001b[0;34m(e, visitPre, visitPost)\u001b[0m\n\u001b[1;32m    351\u001b[0m \u001b[38;5;28;01melif\u001b[39;00m \u001b[38;5;28misinstance\u001b[39m(e, CompValue):\n\u001b[1;32m    352\u001b[0m     \u001b[38;5;28;01mfor\u001b[39;00m k, val \u001b[38;5;129;01min\u001b[39;00m e\u001b[38;5;241m.\u001b[39mitems():\n\u001b[0;32m--> 353\u001b[0m         e[k] \u001b[38;5;241m=\u001b[39m \u001b[43m_traverse\u001b[49m\u001b[43m(\u001b[49m\u001b[43mval\u001b[49m\u001b[43m,\u001b[49m\u001b[43m \u001b[49m\u001b[43mvisitPre\u001b[49m\u001b[43m,\u001b[49m\u001b[43m \u001b[49m\u001b[43mvisitPost\u001b[49m\u001b[43m)\u001b[49m\n\u001b[1;32m    355\u001b[0m _e \u001b[38;5;241m=\u001b[39m visitPost(e)\n\u001b[1;32m    356\u001b[0m \u001b[38;5;28;01mif\u001b[39;00m _e \u001b[38;5;129;01mis\u001b[39;00m \u001b[38;5;129;01mnot\u001b[39;00m \u001b[38;5;28;01mNone\u001b[39;00m:\n",
      "File \u001b[0;32m~/opt/anaconda3/envs/myenv/lib/python3.8/site-packages/rdflib/plugins/sparql/algebra.py:347\u001b[0m, in \u001b[0;36m_traverse\u001b[0;34m(e, visitPre, visitPost)\u001b[0m\n\u001b[1;32m    344\u001b[0m     \u001b[38;5;28;01mreturn\u001b[39;00m \u001b[38;5;28;01mNone\u001b[39;00m\n\u001b[1;32m    346\u001b[0m \u001b[38;5;28;01mif\u001b[39;00m \u001b[38;5;28misinstance\u001b[39m(e, (\u001b[38;5;28mlist\u001b[39m, ParseResults)):\n\u001b[0;32m--> 347\u001b[0m     \u001b[38;5;28;01mreturn\u001b[39;00m [_traverse(x, visitPre, visitPost) \u001b[38;5;28;01mfor\u001b[39;00m x \u001b[38;5;129;01min\u001b[39;00m e]\n\u001b[1;32m    348\u001b[0m \u001b[38;5;28;01melif\u001b[39;00m \u001b[38;5;28misinstance\u001b[39m(e, \u001b[38;5;28mtuple\u001b[39m):\n\u001b[1;32m    349\u001b[0m     \u001b[38;5;28;01mreturn\u001b[39;00m \u001b[38;5;28mtuple\u001b[39m([_traverse(x, visitPre, visitPost) \u001b[38;5;28;01mfor\u001b[39;00m x \u001b[38;5;129;01min\u001b[39;00m e])\n",
      "File \u001b[0;32m~/opt/anaconda3/envs/myenv/lib/python3.8/site-packages/rdflib/plugins/sparql/algebra.py:347\u001b[0m, in \u001b[0;36m<listcomp>\u001b[0;34m(.0)\u001b[0m\n\u001b[1;32m    344\u001b[0m     \u001b[38;5;28;01mreturn\u001b[39;00m \u001b[38;5;28;01mNone\u001b[39;00m\n\u001b[1;32m    346\u001b[0m \u001b[38;5;28;01mif\u001b[39;00m \u001b[38;5;28misinstance\u001b[39m(e, (\u001b[38;5;28mlist\u001b[39m, ParseResults)):\n\u001b[0;32m--> 347\u001b[0m     \u001b[38;5;28;01mreturn\u001b[39;00m [\u001b[43m_traverse\u001b[49m\u001b[43m(\u001b[49m\u001b[43mx\u001b[49m\u001b[43m,\u001b[49m\u001b[43m \u001b[49m\u001b[43mvisitPre\u001b[49m\u001b[43m,\u001b[49m\u001b[43m \u001b[49m\u001b[43mvisitPost\u001b[49m\u001b[43m)\u001b[49m \u001b[38;5;28;01mfor\u001b[39;00m x \u001b[38;5;129;01min\u001b[39;00m e]\n\u001b[1;32m    348\u001b[0m \u001b[38;5;28;01melif\u001b[39;00m \u001b[38;5;28misinstance\u001b[39m(e, \u001b[38;5;28mtuple\u001b[39m):\n\u001b[1;32m    349\u001b[0m     \u001b[38;5;28;01mreturn\u001b[39;00m \u001b[38;5;28mtuple\u001b[39m([_traverse(x, visitPre, visitPost) \u001b[38;5;28;01mfor\u001b[39;00m x \u001b[38;5;129;01min\u001b[39;00m e])\n",
      "    \u001b[0;31m[... skipping similar frames: _traverse at line 353 (1 times)]\u001b[0m\n",
      "File \u001b[0;32m~/opt/anaconda3/envs/myenv/lib/python3.8/site-packages/rdflib/plugins/sparql/algebra.py:347\u001b[0m, in \u001b[0;36m_traverse\u001b[0;34m(e, visitPre, visitPost)\u001b[0m\n\u001b[1;32m    344\u001b[0m     \u001b[38;5;28;01mreturn\u001b[39;00m \u001b[38;5;28;01mNone\u001b[39;00m\n\u001b[1;32m    346\u001b[0m \u001b[38;5;28;01mif\u001b[39;00m \u001b[38;5;28misinstance\u001b[39m(e, (\u001b[38;5;28mlist\u001b[39m, ParseResults)):\n\u001b[0;32m--> 347\u001b[0m     \u001b[38;5;28;01mreturn\u001b[39;00m [_traverse(x, visitPre, visitPost) \u001b[38;5;28;01mfor\u001b[39;00m x \u001b[38;5;129;01min\u001b[39;00m e]\n\u001b[1;32m    348\u001b[0m \u001b[38;5;28;01melif\u001b[39;00m \u001b[38;5;28misinstance\u001b[39m(e, \u001b[38;5;28mtuple\u001b[39m):\n\u001b[1;32m    349\u001b[0m     \u001b[38;5;28;01mreturn\u001b[39;00m \u001b[38;5;28mtuple\u001b[39m([_traverse(x, visitPre, visitPost) \u001b[38;5;28;01mfor\u001b[39;00m x \u001b[38;5;129;01min\u001b[39;00m e])\n",
      "File \u001b[0;32m~/opt/anaconda3/envs/myenv/lib/python3.8/site-packages/rdflib/plugins/sparql/algebra.py:347\u001b[0m, in \u001b[0;36m<listcomp>\u001b[0;34m(.0)\u001b[0m\n\u001b[1;32m    344\u001b[0m     \u001b[38;5;28;01mreturn\u001b[39;00m \u001b[38;5;28;01mNone\u001b[39;00m\n\u001b[1;32m    346\u001b[0m \u001b[38;5;28;01mif\u001b[39;00m \u001b[38;5;28misinstance\u001b[39m(e, (\u001b[38;5;28mlist\u001b[39m, ParseResults)):\n\u001b[0;32m--> 347\u001b[0m     \u001b[38;5;28;01mreturn\u001b[39;00m [\u001b[43m_traverse\u001b[49m\u001b[43m(\u001b[49m\u001b[43mx\u001b[49m\u001b[43m,\u001b[49m\u001b[43m \u001b[49m\u001b[43mvisitPre\u001b[49m\u001b[43m,\u001b[49m\u001b[43m \u001b[49m\u001b[43mvisitPost\u001b[49m\u001b[43m)\u001b[49m \u001b[38;5;28;01mfor\u001b[39;00m x \u001b[38;5;129;01min\u001b[39;00m e]\n\u001b[1;32m    348\u001b[0m \u001b[38;5;28;01melif\u001b[39;00m \u001b[38;5;28misinstance\u001b[39m(e, \u001b[38;5;28mtuple\u001b[39m):\n\u001b[1;32m    349\u001b[0m     \u001b[38;5;28;01mreturn\u001b[39;00m \u001b[38;5;28mtuple\u001b[39m([_traverse(x, visitPre, visitPost) \u001b[38;5;28;01mfor\u001b[39;00m x \u001b[38;5;129;01min\u001b[39;00m e])\n",
      "    \u001b[0;31m[... skipping similar frames: <listcomp> at line 347 (2 times), _traverse at line 347 (2 times), _traverse at line 353 (2 times)]\u001b[0m\n",
      "File \u001b[0;32m~/opt/anaconda3/envs/myenv/lib/python3.8/site-packages/rdflib/plugins/sparql/algebra.py:347\u001b[0m, in \u001b[0;36m_traverse\u001b[0;34m(e, visitPre, visitPost)\u001b[0m\n\u001b[1;32m    344\u001b[0m     \u001b[38;5;28;01mreturn\u001b[39;00m \u001b[38;5;28;01mNone\u001b[39;00m\n\u001b[1;32m    346\u001b[0m \u001b[38;5;28;01mif\u001b[39;00m \u001b[38;5;28misinstance\u001b[39m(e, (\u001b[38;5;28mlist\u001b[39m, ParseResults)):\n\u001b[0;32m--> 347\u001b[0m     \u001b[38;5;28;01mreturn\u001b[39;00m [_traverse(x, visitPre, visitPost) \u001b[38;5;28;01mfor\u001b[39;00m x \u001b[38;5;129;01min\u001b[39;00m e]\n\u001b[1;32m    348\u001b[0m \u001b[38;5;28;01melif\u001b[39;00m \u001b[38;5;28misinstance\u001b[39m(e, \u001b[38;5;28mtuple\u001b[39m):\n\u001b[1;32m    349\u001b[0m     \u001b[38;5;28;01mreturn\u001b[39;00m \u001b[38;5;28mtuple\u001b[39m([_traverse(x, visitPre, visitPost) \u001b[38;5;28;01mfor\u001b[39;00m x \u001b[38;5;129;01min\u001b[39;00m e])\n",
      "File \u001b[0;32m~/opt/anaconda3/envs/myenv/lib/python3.8/site-packages/rdflib/plugins/sparql/algebra.py:347\u001b[0m, in \u001b[0;36m<listcomp>\u001b[0;34m(.0)\u001b[0m\n\u001b[1;32m    344\u001b[0m     \u001b[38;5;28;01mreturn\u001b[39;00m \u001b[38;5;28;01mNone\u001b[39;00m\n\u001b[1;32m    346\u001b[0m \u001b[38;5;28;01mif\u001b[39;00m \u001b[38;5;28misinstance\u001b[39m(e, (\u001b[38;5;28mlist\u001b[39m, ParseResults)):\n\u001b[0;32m--> 347\u001b[0m     \u001b[38;5;28;01mreturn\u001b[39;00m [\u001b[43m_traverse\u001b[49m\u001b[43m(\u001b[49m\u001b[43mx\u001b[49m\u001b[43m,\u001b[49m\u001b[43m \u001b[49m\u001b[43mvisitPre\u001b[49m\u001b[43m,\u001b[49m\u001b[43m \u001b[49m\u001b[43mvisitPost\u001b[49m\u001b[43m)\u001b[49m \u001b[38;5;28;01mfor\u001b[39;00m x \u001b[38;5;129;01min\u001b[39;00m e]\n\u001b[1;32m    348\u001b[0m \u001b[38;5;28;01melif\u001b[39;00m \u001b[38;5;28misinstance\u001b[39m(e, \u001b[38;5;28mtuple\u001b[39m):\n\u001b[1;32m    349\u001b[0m     \u001b[38;5;28;01mreturn\u001b[39;00m \u001b[38;5;28mtuple\u001b[39m([_traverse(x, visitPre, visitPost) \u001b[38;5;28;01mfor\u001b[39;00m x \u001b[38;5;129;01min\u001b[39;00m e])\n",
      "File \u001b[0;32m~/opt/anaconda3/envs/myenv/lib/python3.8/site-packages/rdflib/plugins/sparql/algebra.py:353\u001b[0m, in \u001b[0;36m_traverse\u001b[0;34m(e, visitPre, visitPost)\u001b[0m\n\u001b[1;32m    351\u001b[0m \u001b[38;5;28;01melif\u001b[39;00m \u001b[38;5;28misinstance\u001b[39m(e, CompValue):\n\u001b[1;32m    352\u001b[0m     \u001b[38;5;28;01mfor\u001b[39;00m k, val \u001b[38;5;129;01min\u001b[39;00m e\u001b[38;5;241m.\u001b[39mitems():\n\u001b[0;32m--> 353\u001b[0m         e[k] \u001b[38;5;241m=\u001b[39m \u001b[43m_traverse\u001b[49m\u001b[43m(\u001b[49m\u001b[43mval\u001b[49m\u001b[43m,\u001b[49m\u001b[43m \u001b[49m\u001b[43mvisitPre\u001b[49m\u001b[43m,\u001b[49m\u001b[43m \u001b[49m\u001b[43mvisitPost\u001b[49m\u001b[43m)\u001b[49m\n\u001b[1;32m    355\u001b[0m _e \u001b[38;5;241m=\u001b[39m visitPost(e)\n\u001b[1;32m    356\u001b[0m \u001b[38;5;28;01mif\u001b[39;00m _e \u001b[38;5;129;01mis\u001b[39;00m \u001b[38;5;129;01mnot\u001b[39;00m \u001b[38;5;28;01mNone\u001b[39;00m:\n",
      "File \u001b[0;32m~/opt/anaconda3/envs/myenv/lib/python3.8/site-packages/rdflib/plugins/sparql/algebra.py:355\u001b[0m, in \u001b[0;36m_traverse\u001b[0;34m(e, visitPre, visitPost)\u001b[0m\n\u001b[1;32m    352\u001b[0m     \u001b[38;5;28;01mfor\u001b[39;00m k, val \u001b[38;5;129;01min\u001b[39;00m e\u001b[38;5;241m.\u001b[39mitems():\n\u001b[1;32m    353\u001b[0m         e[k] \u001b[38;5;241m=\u001b[39m _traverse(val, visitPre, visitPost)\n\u001b[0;32m--> 355\u001b[0m _e \u001b[38;5;241m=\u001b[39m \u001b[43mvisitPost\u001b[49m\u001b[43m(\u001b[49m\u001b[43me\u001b[49m\u001b[43m)\u001b[49m\n\u001b[1;32m    356\u001b[0m \u001b[38;5;28;01mif\u001b[39;00m _e \u001b[38;5;129;01mis\u001b[39;00m \u001b[38;5;129;01mnot\u001b[39;00m \u001b[38;5;28;01mNone\u001b[39;00m:\n\u001b[1;32m    357\u001b[0m     \u001b[38;5;28;01mreturn\u001b[39;00m _e\n",
      "File \u001b[0;32m~/opt/anaconda3/envs/myenv/lib/python3.8/site-packages/rdflib/plugins/sparql/algebra.py:152\u001b[0m, in \u001b[0;36mtranslatePName\u001b[0;34m(p, prologue)\u001b[0m\n\u001b[1;32m    150\u001b[0m \u001b[38;5;28;01mif\u001b[39;00m \u001b[38;5;28misinstance\u001b[39m(p, CompValue):\n\u001b[1;32m    151\u001b[0m     \u001b[38;5;28;01mif\u001b[39;00m p\u001b[38;5;241m.\u001b[39mname \u001b[38;5;241m==\u001b[39m \u001b[38;5;124m\"\u001b[39m\u001b[38;5;124mpname\u001b[39m\u001b[38;5;124m\"\u001b[39m:\n\u001b[0;32m--> 152\u001b[0m         \u001b[38;5;28;01mreturn\u001b[39;00m \u001b[43mprologue\u001b[49m\u001b[38;5;241;43m.\u001b[39;49m\u001b[43mabsolutize\u001b[49m\u001b[43m(\u001b[49m\u001b[43mp\u001b[49m\u001b[43m)\u001b[49m\n\u001b[1;32m    153\u001b[0m     \u001b[38;5;28;01mif\u001b[39;00m p\u001b[38;5;241m.\u001b[39mname \u001b[38;5;241m==\u001b[39m \u001b[38;5;124m\"\u001b[39m\u001b[38;5;124mliteral\u001b[39m\u001b[38;5;124m\"\u001b[39m:\n\u001b[1;32m    154\u001b[0m         \u001b[38;5;28;01mreturn\u001b[39;00m Literal(\n\u001b[1;32m    155\u001b[0m             p\u001b[38;5;241m.\u001b[39mstring, lang\u001b[38;5;241m=\u001b[39mp\u001b[38;5;241m.\u001b[39mlang, datatype\u001b[38;5;241m=\u001b[39mprologue\u001b[38;5;241m.\u001b[39mabsolutize(p\u001b[38;5;241m.\u001b[39mdatatype)\n\u001b[1;32m    156\u001b[0m         )\n",
      "File \u001b[0;32m~/opt/anaconda3/envs/myenv/lib/python3.8/site-packages/rdflib/plugins/sparql/sparql.py:392\u001b[0m, in \u001b[0;36mPrologue.absolutize\u001b[0;34m(self, iri)\u001b[0m\n\u001b[1;32m    390\u001b[0m \u001b[38;5;28;01mif\u001b[39;00m \u001b[38;5;28misinstance\u001b[39m(iri, CompValue):\n\u001b[1;32m    391\u001b[0m     \u001b[38;5;28;01mif\u001b[39;00m iri\u001b[38;5;241m.\u001b[39mname \u001b[38;5;241m==\u001b[39m \u001b[38;5;124m\"\u001b[39m\u001b[38;5;124mpname\u001b[39m\u001b[38;5;124m\"\u001b[39m:\n\u001b[0;32m--> 392\u001b[0m         \u001b[38;5;28;01mreturn\u001b[39;00m \u001b[38;5;28;43mself\u001b[39;49m\u001b[38;5;241;43m.\u001b[39;49m\u001b[43mresolvePName\u001b[49m\u001b[43m(\u001b[49m\u001b[43miri\u001b[49m\u001b[38;5;241;43m.\u001b[39;49m\u001b[43mprefix\u001b[49m\u001b[43m,\u001b[49m\u001b[43m \u001b[49m\u001b[43miri\u001b[49m\u001b[38;5;241;43m.\u001b[39;49m\u001b[43mlocalname\u001b[49m\u001b[43m)\u001b[49m\n\u001b[1;32m    393\u001b[0m     \u001b[38;5;28;01mif\u001b[39;00m iri\u001b[38;5;241m.\u001b[39mname \u001b[38;5;241m==\u001b[39m \u001b[38;5;124m\"\u001b[39m\u001b[38;5;124mliteral\u001b[39m\u001b[38;5;124m\"\u001b[39m:\n\u001b[1;32m    394\u001b[0m         \u001b[38;5;28;01mreturn\u001b[39;00m Literal(\n\u001b[1;32m    395\u001b[0m             iri\u001b[38;5;241m.\u001b[39mstring, lang\u001b[38;5;241m=\u001b[39miri\u001b[38;5;241m.\u001b[39mlang, datatype\u001b[38;5;241m=\u001b[39m\u001b[38;5;28mself\u001b[39m\u001b[38;5;241m.\u001b[39mabsolutize(iri\u001b[38;5;241m.\u001b[39mdatatype)\n\u001b[1;32m    396\u001b[0m         )\n",
      "File \u001b[0;32m~/opt/anaconda3/envs/myenv/lib/python3.8/site-packages/rdflib/plugins/sparql/sparql.py:376\u001b[0m, in \u001b[0;36mPrologue.resolvePName\u001b[0;34m(self, prefix, localname)\u001b[0m\n\u001b[1;32m    374\u001b[0m ns \u001b[38;5;241m=\u001b[39m \u001b[38;5;28mself\u001b[39m\u001b[38;5;241m.\u001b[39mnamespace_manager\u001b[38;5;241m.\u001b[39mstore\u001b[38;5;241m.\u001b[39mnamespace(prefix \u001b[38;5;129;01mor\u001b[39;00m \u001b[38;5;124m\"\u001b[39m\u001b[38;5;124m\"\u001b[39m)\n\u001b[1;32m    375\u001b[0m \u001b[38;5;28;01mif\u001b[39;00m ns \u001b[38;5;129;01mis\u001b[39;00m \u001b[38;5;28;01mNone\u001b[39;00m:\n\u001b[0;32m--> 376\u001b[0m     \u001b[38;5;28;01mraise\u001b[39;00m \u001b[38;5;167;01mException\u001b[39;00m(\u001b[38;5;124m\"\u001b[39m\u001b[38;5;124mUnknown namespace prefix : \u001b[39m\u001b[38;5;132;01m%s\u001b[39;00m\u001b[38;5;124m\"\u001b[39m \u001b[38;5;241m%\u001b[39m prefix)\n\u001b[1;32m    377\u001b[0m \u001b[38;5;28;01mreturn\u001b[39;00m URIRef(ns \u001b[38;5;241m+\u001b[39m (localname \u001b[38;5;129;01mor\u001b[39;00m \u001b[38;5;124m\"\u001b[39m\u001b[38;5;124m\"\u001b[39m))\n",
      "\u001b[0;31mException\u001b[0m: Unknown namespace prefix : dbpedia-owl"
     ]
    }
   ],
   "source": [
    "g = Graph()\n",
    "g.parse(\"../files/nobelprize_kg.nt\", format=\"nt\")\n",
    "  \n",
    "print(\"Loaded '\" + str(len(g)) + \"' triples.\")\n",
    "\n",
    "#Query with prefixes \n",
    "nobelprize_query = \"\"\"\n",
    "PREFIX nobel: <http://data.nobelprize.org/terms/>\n",
    "PREFIX foaf: <http://xmlns.com/foaf/0.1/>\n",
    "PREFIX rdfs: <http://www.w3.org/2000/01/rdf-schema#>\n",
    "PREFIX rdf: <http://www.w3.org/1999/02/22-rdf-syntax-ns#>\n",
    "SELECT DISTINCT ?name_laur WHERE { \n",
    "?laur rdf:type nobel:Laureate . \n",
    "?laur rdfs:label ?name_laur . \n",
    "?laur foaf:gender \"female\" . }\n",
    "\"\"\"\n",
    "\n",
    "qres = g.query(nobelprize_query)\n",
    "\n",
    "print(\"Female laureates (printing 10):\")\n",
    "i=0\n",
    "for row in qres:\n",
    "    #Row is a list of matched RDF terms: URIs, literals or blank nodes\n",
    "    i+=1\n",
    "    print(\"'%s'\" % (str(row.name_laur))) #Same name as in sparql query SELECT variable\n",
    "    if i==10:\n",
    "        break\n",
    "        \n",
    "        \n",
    "nbq1 = \"\"\"\n",
    "PREFIX nobel: <http://data.nobelprize.org/terms/>\n",
    "PREFIX foaf: <http://xmlns.com/foaf/0.1/>\n",
    "PREFIX rdfs: <http://www.w3.org/2000/01/rdf-schema#>\n",
    "PREFIX rdf: <http://www.w3.org/1999/02/22-rdf-syntax-ns#>\n",
    "SELECT DISTINCT ?laur ?ctry WHERE {\n",
    "    ?laur rdf:type nobel:Laureate .\n",
    "    ?laur rdfs:label ?label .\n",
    "    ?laur dbpedia-owl:birthPlace nobel-country:United_Kingdom .\n",
    "} \n",
    "\"\"\"\n",
    "\n",
    "qres10 = g.query(nbq1)\n",
    "\n",
    "print(\"laureates (printing 10):\")\n",
    "i=0\n",
    "for row in qres10:\n",
    "    #Row is a list of matched RDF terms: URIs, literals or blank nodes\n",
    "    i+=1\n",
    "    print(\"'%s'\" % (str(row.laur))) #Same name as in sparql query SELECT variable\n",
    "    if i==10:\n",
    "        break"
   ]
  },
  {
   "cell_type": "markdown",
   "id": "50b33b3e",
   "metadata": {},
   "source": [
    "### Query remote dataset via SPARQL Enpoint"
   ]
  },
  {
   "cell_type": "code",
   "execution_count": 6,
   "id": "a2cee1e5",
   "metadata": {},
   "outputs": [
    {
     "name": "stdout",
     "output_type": "stream",
     "text": [
      "Stars co-starring Johnny Depp (printing 10):\n",
      "\n",
      "Abigail Breslin\n",
      "Aidan Quinn\n",
      "Al Pacino\n",
      "Alain Chabat\n",
      "Alan Arkin\n",
      "Albert Tsai\n",
      "Alfred Molina\n",
      "Alison Sudol\n",
      "Amanda Wyss\n"
     ]
    }
   ],
   "source": [
    "endpoint_url = \"http://dbpedia.org/sparql\"\n",
    "sparqlw = SPARQLWrapper(endpoint_url)\n",
    "sparqlw.setReturnFormat(JSON)\n",
    "\n",
    "\n",
    "query = \"\"\"\n",
    "PREFIX foaf: <http://xmlns.com/foaf/0.1/> \n",
    "PREFIX dbo: <http://dbpedia.org/ontology/> \n",
    "SELECT DISTINCT ?x WHERE { \n",
    "?jd foaf:name \\\"Johnny Depp\\\"@en . \n",
    "?m dbo:starring ?jd .\n",
    "?m dbo:starring ?other . \n",
    "?other foaf:name ?x . \n",
    "FILTER (STR(?x)!=\\\"Johnny Depp\\\")\n",
    "} \n",
    "ORDER BY ?x\n",
    "\"\"\"\n",
    "\n",
    "sparqlw.setQuery(query)\n",
    "\n",
    "results = sparqlw.query().convert()\n",
    "\n",
    "#Prints JSON file\n",
    "#print(results)   \n",
    "\n",
    "print(\"Stars co-starring Johnny Depp (printing 10):\")\n",
    "i=0\n",
    "for result in results[\"results\"][\"bindings\"]:\n",
    "    i+=1\n",
    "    #Prints individual results \n",
    "    print(result[\"x\"][\"value\"])\n",
    "    if i==10:\n",
    "        break"
   ]
  },
  {
   "cell_type": "code",
   "execution_count": null,
   "id": "0d5ff76f",
   "metadata": {},
   "outputs": [],
   "source": []
  }
 ],
 "metadata": {
  "kernelspec": {
   "display_name": "Python 3 (ipykernel)",
   "language": "python",
   "name": "python3"
  },
  "language_info": {
   "codemirror_mode": {
    "name": "ipython",
    "version": 3
   },
   "file_extension": ".py",
   "mimetype": "text/x-python",
   "name": "python",
   "nbconvert_exporter": "python",
   "pygments_lexer": "ipython3",
   "version": "3.8.12"
  }
 },
 "nbformat": 4,
 "nbformat_minor": 5
}
