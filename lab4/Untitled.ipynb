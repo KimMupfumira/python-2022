{
 "cells": [
  {
   "cell_type": "markdown",
   "id": "2ad94f56",
   "metadata": {},
   "source": [
    "### Course work Part 1"
   ]
  },
  {
   "cell_type": "code",
   "execution_count": 38,
   "id": "0cd25ec0",
   "metadata": {},
   "outputs": [],
   "source": [
    "import pandas as pd\n",
    "\n",
    "pizza_data = pd.read_csv('IN3067-INM713_coursework_data_pizza_8358_1_reduced.csv')"
   ]
  },
  {
   "cell_type": "code",
   "execution_count": 39,
   "id": "17977ed7",
   "metadata": {},
   "outputs": [
    {
     "name": "stdout",
     "output_type": "stream",
     "text": [
      "menu item                  item description                                                        \n",
      "Medium Pizza Offers        Three medium three topping pizzas                                           10\n",
      "Any Large Pizza            With up to 5 toppings, including specialties                                10\n",
      "Sausage Onion Jam Pizza    Boursin, mozzarella, arugula, parmesan                                       8\n",
      "Whole Breakfast Pizza      Sausage, bacon or vegetarian                                                 7\n",
      "Pizza Sub                  Pepperoni, cheese and sauce                                                  6\n",
      "                                                                                                       ..\n",
      "Hawaiin Pizza              Pineapple, ham and mozzarella                                                1\n",
      "Hawaiian Pizza (small)     Canadian bacon, pineapple and mozzarella cheese.                             1\n",
      "Hawaiian Pizza (medium)    Canadian bacon, pineapple and mozzarella cheese.                             1\n",
      "Hawaiian Pizza (large)     Canadian bacon, pineapple and mozzarella cheese.                             1\n",
      "Zucchini Flat Bread Pizza  tomato sauce, olive oil, basil, fresh Mozzarella, house made pizza dough     1\n",
      "Length: 1317, dtype: int64\n",
      "Index(['name', 'address', 'city', 'country', 'postcode', 'state', 'categories',\n",
      "       'menu item', 'item value', 'currency', 'item description'],\n",
      "      dtype='object')\n"
     ]
    }
   ],
   "source": [
    "print(pizza.value_counts(['menu item', 'item description']))\n",
    "\n",
    "pizza.value_counts('menu item').head(79)\n",
    "\n",
    "# my_pizzaMenu = set(pizza_data['menu item'])\n",
    "\n",
    "#my_pizzaMenu = set(pizza_data['menu item'])\n",
    "\n",
    "\n",
    "print(pizza.columns)\n",
    "\n",
    "#print(my_pizzaMenu)\n",
    "\n",
    "#print(pizza['menu item'].items)"
   ]
  },
  {
   "cell_type": "code",
   "execution_count": 5,
   "id": "508ffdea",
   "metadata": {},
   "outputs": [
    {
     "name": "stdout",
     "output_type": "stream",
     "text": [
      "                                   name  \\\n",
      "0                 Little Pizza Paradise   \n",
      "1                 Little Pizza Paradise   \n",
      "2                         The Brentwood   \n",
      "3                         The Brentwood   \n",
      "4                         The Brentwood   \n",
      "...                                 ...   \n",
      "3505  Prison Brews Brewery & Restaurant   \n",
      "3506  Prison Brews Brewery & Restaurant   \n",
      "3507                     Moonlight Cafe   \n",
      "3508                     Moonlight Cafe   \n",
      "3509                             Guidos   \n",
      "\n",
      "                                      address            city country  \\\n",
      "0     Cascade Village Mall Across From Target            Bend      US   \n",
      "1     Cascade Village Mall Across From Target            Bend      US   \n",
      "2                        148 S Barrington Ave     Los Angeles      US   \n",
      "3                        148 S Barrington Ave     Los Angeles      US   \n",
      "4                        148 S Barrington Ave     Los Angeles      US   \n",
      "...                                       ...             ...     ...   \n",
      "3505                               305 Ash St  Jefferson City      US   \n",
      "3506                               305 Ash St  Jefferson City      US   \n",
      "3507                         4140 Carlisle Rd           Dover      US   \n",
      "3508                         4140 Carlisle Rd           Dover      US   \n",
      "3509              9563 Kings Charter Doctor B         Ashland      US   \n",
      "\n",
      "     postcode        state                      categories          menu item  \\\n",
      "0       97701           OR                     Pizza Place       Bianca Pizza   \n",
      "1       97701           OR                     Pizza Place       Cheese Pizza   \n",
      "2       90049    Brentwood  American Restaurant,Bar,Bakery  Pizza, Margherita   \n",
      "3       90049    Brentwood  American Restaurant,Bar,Bakery    Pizza, Mushroom   \n",
      "4       90049    Brentwood  American Restaurant,Bar,Bakery  Pizza, Puttenesca   \n",
      "...       ...          ...                             ...                ...   \n",
      "3505    65101  Honey Creek               Bar and Gastropub      Supreme Pizza   \n",
      "3506    65101  Honey Creek               Bar and Gastropub   Vegetarian Pizza   \n",
      "3507    17315   Davidsburg   Restaurant,Italian Restaurant         Pita Pizza   \n",
      "3508    17315   Davidsburg   Restaurant,Italian Restaurant    Steak Pizzaiola   \n",
      "3509    23005           VA                      Restaurant        White Pizza   \n",
      "\n",
      "      item value currency                                item description  \n",
      "0          22.50      USD                                             NaN  \n",
      "1          18.95      USD                                             NaN  \n",
      "2          12.00      USD                                             NaN  \n",
      "3          13.00      USD                                             NaN  \n",
      "4          13.00      USD                Olives, onions, capers, tomatoes  \n",
      "...          ...      ...                                             ...  \n",
      "3505       11.99      USD                                             NaN  \n",
      "3506        9.99      USD                                             NaN  \n",
      "3507        5.00      USD                                             NaN  \n",
      "3508       20.00      USD                                             NaN  \n",
      "3509         NaN      NaN  ricotta, mozzarella, spinach, garlic, tomatoes  \n",
      "\n",
      "[3510 rows x 11 columns]\n"
     ]
    }
   ],
   "source": [
    "print(pizza)"
   ]
  },
  {
   "cell_type": "code",
   "execution_count": null,
   "id": "ba8ec0dd",
   "metadata": {},
   "outputs": [],
   "source": []
  }
 ],
 "metadata": {
  "kernelspec": {
   "display_name": "Python 3 (ipykernel)",
   "language": "python",
   "name": "python3"
  },
  "language_info": {
   "codemirror_mode": {
    "name": "ipython",
    "version": 3
   },
   "file_extension": ".py",
   "mimetype": "text/x-python",
   "name": "python",
   "nbconvert_exporter": "python",
   "pygments_lexer": "ipython3",
   "version": "3.8.12"
  }
 },
 "nbformat": 4,
 "nbformat_minor": 5
}
